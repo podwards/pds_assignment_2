{
 "cells": [
  {
   "cell_type": "markdown",
   "metadata": {},
   "source": [
    "https://archive.ics.uci.edu/ml/datasets/Mice+Protein+Expression"
   ]
  },
  {
   "cell_type": "code",
   "execution_count": 130,
   "metadata": {
    "collapsed": true
   },
   "outputs": [],
   "source": [
    "import pandas as pd\n",
    "from sklearn import decomposition\n",
    "from sklearn.cluster import KMeans, Birch\n",
    "\n",
    "\n",
    "import plotly.plotly as py\n",
    "import plotly.figure_factory as ff\n",
    "import plotly.plotly as py\n",
    "import plotly.graph_objs as go\n",
    "\n",
    "import numpy as np"
   ]
  },
  {
   "cell_type": "code",
   "execution_count": 2,
   "metadata": {
    "collapsed": true
   },
   "outputs": [],
   "source": [
    "import matplotlib\n",
    "import matplotlib.pyplot as plt\n",
    "import matplotlib.cm as cm\n",
    "matplotlib.style.use('ggplot')\n",
    "%matplotlib inline "
   ]
  },
  {
   "cell_type": "code",
   "execution_count": 65,
   "metadata": {
    "collapsed": false
   },
   "outputs": [],
   "source": [
    "data_path = \"../data/external/data_geneMice/Data_Cortex_Nuclear.xls\"\n",
    "raw_df = pd.read_excel(data_path)\n",
    "raw_df = raw_df.dropna()"
   ]
  },
  {
   "cell_type": "code",
   "execution_count": 66,
   "metadata": {
    "collapsed": true
   },
   "outputs": [
    {
     "data": {
      "text/html": [
       "<div>\n",
       "<table border=\"1\" class=\"dataframe\">\n",
       "  <thead>\n",
       "    <tr style=\"text-align: right;\">\n",
       "      <th></th>\n",
       "      <th>MouseID</th>\n",
       "      <th>DYRK1A_N</th>\n",
       "      <th>ITSN1_N</th>\n",
       "      <th>BDNF_N</th>\n",
       "      <th>NR1_N</th>\n",
       "      <th>NR2A_N</th>\n",
       "      <th>pAKT_N</th>\n",
       "      <th>pBRAF_N</th>\n",
       "      <th>pCAMKII_N</th>\n",
       "      <th>pCREB_N</th>\n",
       "      <th>...</th>\n",
       "      <th>pCFOS_N</th>\n",
       "      <th>SYP_N</th>\n",
       "      <th>H3AcK18_N</th>\n",
       "      <th>EGR1_N</th>\n",
       "      <th>H3MeK4_N</th>\n",
       "      <th>CaNA_N</th>\n",
       "      <th>Genotype</th>\n",
       "      <th>Treatment</th>\n",
       "      <th>Behavior</th>\n",
       "      <th>class</th>\n",
       "    </tr>\n",
       "  </thead>\n",
       "  <tbody>\n",
       "    <tr>\n",
       "      <th>75</th>\n",
       "      <td>3415_1</td>\n",
       "      <td>0.649781</td>\n",
       "      <td>0.828696</td>\n",
       "      <td>0.405862</td>\n",
       "      <td>2.921435</td>\n",
       "      <td>5.167979</td>\n",
       "      <td>0.207174</td>\n",
       "      <td>0.176640</td>\n",
       "      <td>3.728084</td>\n",
       "      <td>0.239283</td>\n",
       "      <td>...</td>\n",
       "      <td>0.129363</td>\n",
       "      <td>0.486912</td>\n",
       "      <td>0.125152</td>\n",
       "      <td>0.146865</td>\n",
       "      <td>0.143517</td>\n",
       "      <td>1.627181</td>\n",
       "      <td>Control</td>\n",
       "      <td>Memantine</td>\n",
       "      <td>C/S</td>\n",
       "      <td>c-CS-m</td>\n",
       "    </tr>\n",
       "    <tr>\n",
       "      <th>76</th>\n",
       "      <td>3415_2</td>\n",
       "      <td>0.616481</td>\n",
       "      <td>0.841974</td>\n",
       "      <td>0.388584</td>\n",
       "      <td>2.862575</td>\n",
       "      <td>5.194163</td>\n",
       "      <td>0.223433</td>\n",
       "      <td>0.167725</td>\n",
       "      <td>3.648240</td>\n",
       "      <td>0.221030</td>\n",
       "      <td>...</td>\n",
       "      <td>0.143084</td>\n",
       "      <td>0.467833</td>\n",
       "      <td>0.112857</td>\n",
       "      <td>0.161132</td>\n",
       "      <td>0.145719</td>\n",
       "      <td>1.562096</td>\n",
       "      <td>Control</td>\n",
       "      <td>Memantine</td>\n",
       "      <td>C/S</td>\n",
       "      <td>c-CS-m</td>\n",
       "    </tr>\n",
       "    <tr>\n",
       "      <th>77</th>\n",
       "      <td>3415_3</td>\n",
       "      <td>0.637424</td>\n",
       "      <td>0.852882</td>\n",
       "      <td>0.400561</td>\n",
       "      <td>2.968155</td>\n",
       "      <td>5.350820</td>\n",
       "      <td>0.208790</td>\n",
       "      <td>0.173261</td>\n",
       "      <td>3.814545</td>\n",
       "      <td>0.222300</td>\n",
       "      <td>...</td>\n",
       "      <td>0.147673</td>\n",
       "      <td>0.462501</td>\n",
       "      <td>0.116433</td>\n",
       "      <td>0.160594</td>\n",
       "      <td>0.142879</td>\n",
       "      <td>1.571868</td>\n",
       "      <td>Control</td>\n",
       "      <td>Memantine</td>\n",
       "      <td>C/S</td>\n",
       "      <td>c-CS-m</td>\n",
       "    </tr>\n",
       "    <tr>\n",
       "      <th>78</th>\n",
       "      <td>3415_4</td>\n",
       "      <td>0.576815</td>\n",
       "      <td>0.755390</td>\n",
       "      <td>0.348346</td>\n",
       "      <td>2.624901</td>\n",
       "      <td>4.727509</td>\n",
       "      <td>0.205892</td>\n",
       "      <td>0.161192</td>\n",
       "      <td>3.778530</td>\n",
       "      <td>0.194153</td>\n",
       "      <td>...</td>\n",
       "      <td>0.121290</td>\n",
       "      <td>0.479110</td>\n",
       "      <td>0.102831</td>\n",
       "      <td>0.144238</td>\n",
       "      <td>0.141681</td>\n",
       "      <td>1.646608</td>\n",
       "      <td>Control</td>\n",
       "      <td>Memantine</td>\n",
       "      <td>C/S</td>\n",
       "      <td>c-CS-m</td>\n",
       "    </tr>\n",
       "    <tr>\n",
       "      <th>79</th>\n",
       "      <td>3415_5</td>\n",
       "      <td>0.542545</td>\n",
       "      <td>0.757917</td>\n",
       "      <td>0.350051</td>\n",
       "      <td>2.634509</td>\n",
       "      <td>4.735602</td>\n",
       "      <td>0.210526</td>\n",
       "      <td>0.165671</td>\n",
       "      <td>3.871971</td>\n",
       "      <td>0.194297</td>\n",
       "      <td>...</td>\n",
       "      <td>0.142617</td>\n",
       "      <td>0.438354</td>\n",
       "      <td>0.110614</td>\n",
       "      <td>0.155667</td>\n",
       "      <td>0.146408</td>\n",
       "      <td>1.607631</td>\n",
       "      <td>Control</td>\n",
       "      <td>Memantine</td>\n",
       "      <td>C/S</td>\n",
       "      <td>c-CS-m</td>\n",
       "    </tr>\n",
       "  </tbody>\n",
       "</table>\n",
       "<p>5 rows × 82 columns</p>\n",
       "</div>"
      ],
      "text/plain": [
       "   MouseID  DYRK1A_N   ITSN1_N    BDNF_N     NR1_N    NR2A_N    pAKT_N  \\\n",
       "75  3415_1  0.649781  0.828696  0.405862  2.921435  5.167979  0.207174   \n",
       "76  3415_2  0.616481  0.841974  0.388584  2.862575  5.194163  0.223433   \n",
       "77  3415_3  0.637424  0.852882  0.400561  2.968155  5.350820  0.208790   \n",
       "78  3415_4  0.576815  0.755390  0.348346  2.624901  4.727509  0.205892   \n",
       "79  3415_5  0.542545  0.757917  0.350051  2.634509  4.735602  0.210526   \n",
       "\n",
       "     pBRAF_N  pCAMKII_N   pCREB_N   ...     pCFOS_N     SYP_N  H3AcK18_N  \\\n",
       "75  0.176640   3.728084  0.239283   ...    0.129363  0.486912   0.125152   \n",
       "76  0.167725   3.648240  0.221030   ...    0.143084  0.467833   0.112857   \n",
       "77  0.173261   3.814545  0.222300   ...    0.147673  0.462501   0.116433   \n",
       "78  0.161192   3.778530  0.194153   ...    0.121290  0.479110   0.102831   \n",
       "79  0.165671   3.871971  0.194297   ...    0.142617  0.438354   0.110614   \n",
       "\n",
       "      EGR1_N  H3MeK4_N    CaNA_N  Genotype  Treatment  Behavior   class  \n",
       "75  0.146865  0.143517  1.627181   Control  Memantine       C/S  c-CS-m  \n",
       "76  0.161132  0.145719  1.562096   Control  Memantine       C/S  c-CS-m  \n",
       "77  0.160594  0.142879  1.571868   Control  Memantine       C/S  c-CS-m  \n",
       "78  0.144238  0.141681  1.646608   Control  Memantine       C/S  c-CS-m  \n",
       "79  0.155667  0.146408  1.607631   Control  Memantine       C/S  c-CS-m  \n",
       "\n",
       "[5 rows x 82 columns]"
      ]
     },
     "execution_count": 66,
     "metadata": {},
     "output_type": "execute_result"
    }
   ],
   "source": [
    "raw_df.head()"
   ]
  },
  {
   "cell_type": "code",
   "execution_count": 123,
   "metadata": {
    "collapsed": true
   },
   "outputs": [],
   "source": [
    "def scatter_3d(df, x = 0, y = 1, z = 2):\n",
    "    colors = df.color\n",
    "\n",
    "    x,y,z = df[x], df[y], df[z]\n",
    "    trace1 = go.Scatter3d(\n",
    "        x=x,\n",
    "        y=y,\n",
    "        z=z,\n",
    "        mode='markers',\n",
    "        #text=whole_df['artist_name'],\n",
    "        #name=whole_df['artist_name'],\n",
    "        showlegend=True,\n",
    "        marker=dict(\n",
    "            size=10,\n",
    "            color=colors,\n",
    "            colorscale='Jet',\n",
    "            showscale=True,\n",
    "            line=dict(\n",
    "                color=colors,\n",
    "                width=0.5,\n",
    "                colorscale='Jet',\n",
    "            ),\n",
    "\n",
    "            opacity=1.0\n",
    "        )\n",
    "    )\n",
    "\n",
    "    data = [trace1]\n",
    "    layout = go.Layout(\n",
    "        margin=dict(\n",
    "            l=0,\n",
    "            r=0,\n",
    "            b=0,\n",
    "            t=0\n",
    "        )\n",
    "    )\n",
    "    fig = go.Figure(data=data, layout=layout)\n",
    "    return py.iplot(fig, filename='simple-3d-scatter')\n",
    "\n",
    "def scatter_2d(df, x = 0, y = 1):\n",
    "    colors = df.color\n",
    "\n",
    "    x,y = df[x], df[y]\n",
    "    trace1 = go.Scatter(\n",
    "        x=x,\n",
    "        y=y,\n",
    "        mode='markers',\n",
    "        #text=whole_df['artist_name'],\n",
    "        #name=whole_df['artist_name'],\n",
    "        showlegend=True,\n",
    "        marker=dict(\n",
    "            size=10,\n",
    "            color=colors,\n",
    "            colorscale='Jet',\n",
    "            showscale=True,\n",
    "            line=dict(\n",
    "                color=colors,\n",
    "                width=0.5,\n",
    "                colorscale='Jet',\n",
    "            ),\n",
    "\n",
    "            opacity=1.0\n",
    "        )\n",
    "    )\n",
    "\n",
    "    data = [trace1]\n",
    "    layout = go.Layout(\n",
    "        margin=dict(\n",
    "            l=0,\n",
    "            r=0,\n",
    "            b=0,\n",
    "            t=0\n",
    "        )\n",
    "    )\n",
    "    fig = go.Figure(data=data, layout=layout)\n",
    "    return py.iplot(fig, filename='simple-3d-scatter')"
   ]
  },
  {
   "cell_type": "code",
   "execution_count": 198,
   "metadata": {
    "collapsed": false
   },
   "outputs": [],
   "source": [
    "key_kmeans = 'kmeans'\n",
    "key_birch = 'birch'\n",
    "key_colour = 'color'\n",
    "key_labels = 'labels'\n",
    "\n",
    "class Exploration(object):\n",
    "    def __init__(self, raw_df, target_cols):\n",
    "        cols = raw_df.columns\n",
    "\n",
    "        self.df_class = raw_df[target_cols]\n",
    "        self.df_attributes = raw_df.drop(target_cols, axis=1)\n",
    "        \n",
    "    def set_class_to_explore(self, key):\n",
    "        self.target_key = key\n",
    "        \n",
    "    def pca(self, n):\n",
    "        X = self.df_attributes\n",
    "        pca = decomposition.PCA(n_components=n)\n",
    "        pca.fit(X)\n",
    "        X = pca.transform(X)\n",
    "        self.df_pca = pd.DataFrame(X)\n",
    "        \n",
    "    def _cluster_kmeans(self, random_state=0):\n",
    "        n_clusters = len(set(self.df_class[self.target_key]))\n",
    "        kmeans = KMeans(n_clusters=n_clusters, random_state=random_state).fit(self.df_pca)\n",
    "        self.cluster_results = kmeans\n",
    "        \n",
    "    def _cluster_birch(self, random_state=0):\n",
    "        n_clusters = len(set(self.df_class[self.target_key]))\n",
    "        birch = Birch(n_clusters=n_clusters).fit(self.df_pca)\n",
    "        self.cluster_results = birch\n",
    "        \n",
    "    def cluster(self, algo=key_kmeans):\n",
    "        if algo==key_kmeans:\n",
    "            self._cluster_kmeans()\n",
    "        if algo==key_birch:\n",
    "            self._cluster_birch()\n",
    "        \n",
    "    def pca_scatter_cluster(self, n = 2, algo = key_birch):\n",
    "        self.pca(n)\n",
    "        self.cluster(algo = algo)\n",
    "        int_labels = self.cluster_results.labels_\n",
    "        text_labels = ['Cluster {}'.format(l) for l in int_labels]\n",
    "        self.df_pca[key_labels] = text_labels\n",
    "        self.df_pca[key_colour] = int_labels\n",
    "        if n == 3:\n",
    "            return scatter_3d(self.df_pca)\n",
    "        return scatter_2d(self.df_pca)\n",
    "        \n",
    "    def pca_scatter_class(self, n = 2):\n",
    "        self.pca(n)\n",
    "        class_values = self.df_class[self.target_key]\n",
    "        text_labels = class_values\n",
    "        df_colour_dict = dict([(class_label, i) for (i, class_label) in enumerate(set(class_values))])\n",
    "        class_colours = np.array([df_colour_dict[key] for key in class_values], dtype=int)\n",
    "        self.df_pca[key_labels] = text_labels\n",
    "        self.df_pca[key_colour] = class_colours\n",
    "        if n == 3:\n",
    "            return scatter_3d(self.df_pca)\n",
    "        return scatter_2d(self.df_pca)\n",
    "    \n",
    "    def compare_class_clusters(self):\n",
    "        cluster_int_labels = np.array(self.cluster_results.labels_)\n",
    "        class_values = self.df_class[self.target_key]\n",
    "        df_colour_dict = dict([(class_label, i) for (i, class_label) in enumerate(set(class_values))])\n",
    "        class_int_labels = np.array([df_colour_dict[key] for key in class_values], dtype=int)\n",
    "        df = pd.DataFrame()\n",
    "        df[0] = [x + perturb() for x in class_int_labels]\n",
    "        df[1] = [x + perturb() for x in cluster_int_labels]\n",
    "        df[key_colour] = cluster_int_labels\n",
    "        df[key_labels] = 0\n",
    "        return scatter_2d(df)\n",
    "        \n",
    "        \n",
    "def perturb(grid=0.1):\n",
    "    return np.random.uniform(low=-grid, high=grid)/2"
   ]
  },
  {
   "cell_type": "code",
   "execution_count": 193,
   "metadata": {
    "collapsed": false
   },
   "outputs": [
    {
     "data": {
      "text/plain": [
       "0.028966537813702828"
      ]
     },
     "execution_count": 193,
     "metadata": {},
     "output_type": "execute_result"
    }
   ],
   "source": [
    "grid=0.1\n",
    "np.random.uniform(low=-grid, high=grid)/2"
   ]
  },
  {
   "cell_type": "code",
   "execution_count": 199,
   "metadata": {
    "collapsed": true
   },
   "outputs": [],
   "source": [
    "class_labels = ['Genotype','Treatment','Behavior','class', 'MouseID']\n",
    "\n",
    "explorer_1 = Exploration(raw_df, class_labels)"
   ]
  },
  {
   "cell_type": "code",
   "execution_count": 200,
   "metadata": {
    "collapsed": true
   },
   "outputs": [
    {
     "data": {
      "text/html": [
       "<iframe id=\"igraph\" scrolling=\"no\" style=\"border:none;\" seamless=\"seamless\" src=\"https://plot.ly/~podwards_rmit/2.embed\" height=\"525px\" width=\"100%\"></iframe>"
      ],
      "text/plain": [
       "<plotly.tools.PlotlyDisplay object>"
      ]
     },
     "execution_count": 200,
     "metadata": {},
     "output_type": "execute_result"
    }
   ],
   "source": [
    "explorer_1.set_class_to_explore('class')\n",
    "explorer_1.pca_scatter_cluster(n=3)"
   ]
  },
  {
   "cell_type": "code",
   "execution_count": 201,
   "metadata": {
    "collapsed": true
   },
   "outputs": [
    {
     "data": {
      "text/html": [
       "<iframe id=\"igraph\" scrolling=\"no\" style=\"border:none;\" seamless=\"seamless\" src=\"https://plot.ly/~podwards_rmit/2.embed\" height=\"525px\" width=\"100%\"></iframe>"
      ],
      "text/plain": [
       "<plotly.tools.PlotlyDisplay object>"
      ]
     },
     "execution_count": 201,
     "metadata": {},
     "output_type": "execute_result"
    }
   ],
   "source": [
    "explorer_1.compare_class_clusters()"
   ]
  },
  {
   "cell_type": "code",
   "execution_count": 203,
   "metadata": {
    "collapsed": true
   },
   "outputs": [
    {
     "data": {
      "text/html": [
       "<iframe id=\"igraph\" scrolling=\"no\" style=\"border:none;\" seamless=\"seamless\" src=\"https://plot.ly/~podwards_rmit/2.embed\" height=\"525px\" width=\"100%\"></iframe>"
      ],
      "text/plain": [
       "<plotly.tools.PlotlyDisplay object>"
      ]
     },
     "execution_count": 203,
     "metadata": {},
     "output_type": "execute_result"
    }
   ],
   "source": [
    "explorer_1.set_class_to_explore('class')\n",
    "explorer_1.pca_scatter_class(n=3)"
   ]
  },
  {
   "cell_type": "code",
   "execution_count": 202,
   "metadata": {
    "collapsed": true
   },
   "outputs": [
    {
     "data": {
      "text/html": [
       "<iframe id=\"igraph\" scrolling=\"no\" style=\"border:none;\" seamless=\"seamless\" src=\"https://plot.ly/~podwards_rmit/2.embed\" height=\"525px\" width=\"100%\"></iframe>"
      ],
      "text/plain": [
       "<plotly.tools.PlotlyDisplay object>"
      ]
     },
     "execution_count": 202,
     "metadata": {},
     "output_type": "execute_result"
    }
   ],
   "source": [
    "explorer_1.set_class_to_explore('class')\n",
    "explorer_1.pca_scatter_class(n=2)"
   ]
  },
  {
   "cell_type": "code",
   "execution_count": 126,
   "metadata": {
    "collapsed": true
   },
   "outputs": [
    {
     "data": {
      "text/html": [
       "<iframe id=\"igraph\" scrolling=\"no\" style=\"border:none;\" seamless=\"seamless\" src=\"https://plot.ly/~podwards_rmit/2.embed\" height=\"525px\" width=\"100%\"></iframe>"
      ],
      "text/plain": [
       "<plotly.tools.PlotlyDisplay object>"
      ]
     },
     "execution_count": 126,
     "metadata": {},
     "output_type": "execute_result"
    }
   ],
   "source": [
    "explorer_1.set_class_to_explore('class')\n",
    "explorer_1.pca_scatter_cluster(n=2)"
   ]
  },
  {
   "cell_type": "code",
   "execution_count": 128,
   "metadata": {
    "collapsed": true
   },
   "outputs": [
    {
     "data": {
      "text/html": [
       "<iframe id=\"igraph\" scrolling=\"no\" style=\"border:none;\" seamless=\"seamless\" src=\"https://plot.ly/~podwards_rmit/2.embed\" height=\"525px\" width=\"100%\"></iframe>"
      ],
      "text/plain": [
       "<plotly.tools.PlotlyDisplay object>"
      ]
     },
     "execution_count": 128,
     "metadata": {},
     "output_type": "execute_result"
    }
   ],
   "source": [
    "explorer_1.set_class_to_explore('Behavior')\n",
    "explorer_1.pca_scatter_cluster(n=3)"
   ]
  },
  {
   "cell_type": "code",
   "execution_count": 129,
   "metadata": {
    "collapsed": true
   },
   "outputs": [
    {
     "data": {
      "text/html": [
       "<iframe id=\"igraph\" scrolling=\"no\" style=\"border:none;\" seamless=\"seamless\" src=\"https://plot.ly/~podwards_rmit/2.embed\" height=\"525px\" width=\"100%\"></iframe>"
      ],
      "text/plain": [
       "<plotly.tools.PlotlyDisplay object>"
      ]
     },
     "execution_count": 129,
     "metadata": {},
     "output_type": "execute_result"
    }
   ],
   "source": [
    "explorer_1.set_class_to_explore('Behavior')\n",
    "explorer_1.pca_scatter_class(n=3)"
   ]
  },
  {
   "cell_type": "code",
   "execution_count": null,
   "metadata": {
    "collapsed": true
   },
   "outputs": [],
   "source": []
  }
 ],
 "metadata": {
  "kernelspec": {
   "display_name": "Python 3",
   "language": "python",
   "name": "python3"
  },
  "language_info": {
   "codemirror_mode": {
    "name": "ipython",
    "version": 3
   },
   "file_extension": ".py",
   "mimetype": "text/x-python",
   "name": "python",
   "nbconvert_exporter": "python",
   "pygments_lexer": "ipython3",
   "version": "3.5.3"
  }
 },
 "nbformat": 4,
 "nbformat_minor": 2
}
